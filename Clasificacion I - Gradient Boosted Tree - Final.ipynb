{
 "cells": [
  {
   "cell_type": "markdown",
   "id": "241b9691",
   "metadata": {},
   "source": [
    "# Gradient Boosted Tree\n",
    "### Modelo de clasificación\n",
    "\n",
    "Un modelo Gradient Boosting Trees está formado por un conjunto (ensemble) de árboles de decisión individuales, entrenados de forma secuencial. Cada nuevo árbol emplea información del árbol anterior para aprender de sus errores, mejorando iteración a iteración. En cada árbol individual, las observaciones se van distribuyendo por bifurcaciones (nodos) generando la estructura del árbol hasta alcanzar un nodo terminal. La predicción de una nueva observación se obtiene agregando las predicciones de todos los árboles individuales que forman el modelo.\n",
    "\n",
    "[Fuente](https://www.cienciadedatos.net/documentos/py09_gradient_boosting_python.html)\n",
    "\n",
    "### Aplicación:\n",
    "\n",
    "En este ejercicio aplicamos este modelo de aprendizaje automático con dos categorías de partículas subatomicas y cuatro de sus principales características. La meta es entrenar el algoritmo para ser capaz de separar estas categorías conociendo únicamente sus características."
   ]
  },
  {
   "cell_type": "markdown",
   "id": "9ee96cd9",
   "metadata": {},
   "source": [
    "# 1. Importamos las librerias"
   ]
  },
  {
   "cell_type": "code",
   "execution_count": 1,
   "id": "c5fc38be",
   "metadata": {},
   "outputs": [
    {
     "name": "stderr",
     "output_type": "stream",
     "text": [
      "Using Spark's default log4j profile: org/apache/spark/log4j-defaults.properties\n",
      "Setting default log level to \"WARN\".\n",
      "To adjust logging level use sc.setLogLevel(newLevel). For SparkR, use setLogLevel(newLevel).\n",
      "21/12/02 22:50:13 WARN NativeCodeLoader: Unable to load native-hadoop library for your platform... using builtin-java classes where applicable\n"
     ]
    }
   ],
   "source": [
    "from pyspark.ml import Pipeline\n",
    "from pyspark.ml.classification import GBTClassifier\n",
    "from pyspark.ml.feature import StringIndexer, VectorIndexer\n",
    "from pyspark.ml.evaluation import MulticlassClassificationEvaluator\n",
    "from pyspark.sql import SparkSession\n",
    "\n",
    "spark = SparkSession\\\n",
    "        .builder\\\n",
    "        .appName(\"GradientBoostedTreeClassifierExample\")\\\n",
    "        .getOrCreate()"
   ]
  },
  {
   "cell_type": "markdown",
   "id": "fee25296",
   "metadata": {},
   "source": [
    "# 2. Cargamos los datos"
   ]
  },
  {
   "cell_type": "code",
   "execution_count": 2,
   "id": "e4ffea85",
   "metadata": {},
   "outputs": [],
   "source": [
    "data = spark.read.format(\"csv\").load(\"data.csv\", header = True)"
   ]
  },
  {
   "cell_type": "code",
   "execution_count": 3,
   "id": "fc8c6c85",
   "metadata": {},
   "outputs": [
    {
     "data": {
      "text/plain": [
       "DataFrame[_c0: string, Label: string, TrackP: string, TrackPt: string, MuonFlag: string, SpdE: string]"
      ]
     },
     "execution_count": 3,
     "metadata": {},
     "output_type": "execute_result"
    }
   ],
   "source": [
    "data"
   ]
  },
  {
   "cell_type": "code",
   "execution_count": 4,
   "id": "e973ca8a",
   "metadata": {},
   "outputs": [],
   "source": [
    "from pyspark.sql.functions import col\n",
    "data = data.drop(\"_c0\")"
   ]
  },
  {
   "cell_type": "code",
   "execution_count": 5,
   "id": "282da193",
   "metadata": {},
   "outputs": [
    {
     "name": "stdout",
     "output_type": "stream",
     "text": [
      "+-----+-------------+-------------+--------+-------------+\n",
      "|Label|       TrackP|      TrackPt|MuonFlag|         SpdE|\n",
      "+-----+-------------+-------------+--------+-------------+\n",
      "|Other|74791.1562629|3141.93067698|     1.0|3.20000004768|\n",
      "|Ghost|2738.48998933|199.573653278|     0.0|3.20000004768|\n",
      "|Ghost|2161.40990765|94.8294175338|     0.0|          0.0|\n",
      "|Other|15277.7304903|808.631063989|     0.0|3.20000004768|\n",
      "|Other|7563.70019502|1422.56921358|     0.0|3.20000004768|\n",
      "|Other|62641.6210901|3195.36230097|     0.0|3.20000004768|\n",
      "|Other|18872.8105703|1428.89675193|     0.0|3.20000004768|\n",
      "|Ghost|1993.55004844|469.429473483|     0.0|          0.0|\n",
      "|Other|90635.2968712|4560.59667592|     0.0|3.20000004768|\n",
      "|Other|11633.6699412|286.894581101|     0.0|          0.0|\n",
      "|Other|3432.92993402|447.756746761|     0.0|          0.0|\n",
      "|Other|21985.5390787|1616.39540194|     0.0|3.20000004768|\n",
      "|Other|  5666.160153|334.631435959|     0.0|          0.0|\n",
      "|Other|72726.6015693|3350.76196972|     1.0|3.20000004768|\n",
      "|Other|31465.6992176|839.893370406|     0.0|3.20000004768|\n",
      "|Other|100204.546879|4152.17822691|     1.0|3.20000004768|\n",
      "|Other|5402.31982176|925.537839341|     0.0|3.20000004768|\n",
      "|Other|4081.04003133|99.0788725761|     0.0|3.20000004768|\n",
      "|Other|9824.12988681|309.734592625|     0.0|3.20000004768|\n",
      "|Other|3559.33004986|1055.70443951|     0.0|3.20000004768|\n",
      "+-----+-------------+-------------+--------+-------------+\n",
      "only showing top 20 rows\n",
      "\n"
     ]
    }
   ],
   "source": [
    "data.show()"
   ]
  },
  {
   "cell_type": "markdown",
   "id": "16f67efb",
   "metadata": {},
   "source": [
    "# 3. Procesamiento de datos\n",
    "\n",
    "- Cambiamos las variables numéricas al tipo correcto\n",
    "- Codificamos las etiquetas\n",
    "- Preparamos los vectores de características"
   ]
  },
  {
   "cell_type": "code",
   "execution_count": 6,
   "id": "b94676a6",
   "metadata": {},
   "outputs": [],
   "source": [
    "from pyspark.sql.types import DoubleType\n",
    "from pyspark.sql.functions import col\n",
    "data = data.withColumn(\"TrackP\",data.TrackP.cast(DoubleType()))\n",
    "data = data.withColumn(\"TrackPt\",data.TrackPt.cast(DoubleType()))\n",
    "data = data.withColumn(\"MuonFlag\",data.MuonFlag.cast(DoubleType()))\n",
    "data = data.withColumn(\"SpdE\",data.SpdE.cast(DoubleType()))"
   ]
  },
  {
   "cell_type": "code",
   "execution_count": 7,
   "id": "065560d6",
   "metadata": {},
   "outputs": [
    {
     "name": "stderr",
     "output_type": "stream",
     "text": [
      "\r",
      "[Stage 2:>                                                        (0 + 17) / 17]\r",
      "\r",
      "                                                                                \r"
     ]
    }
   ],
   "source": [
    "labelIndexer = StringIndexer(inputCol=\"Label\", outputCol=\"indexedLabel\").fit(data)"
   ]
  },
  {
   "cell_type": "code",
   "execution_count": 8,
   "id": "e2b409b2",
   "metadata": {},
   "outputs": [
    {
     "name": "stdout",
     "output_type": "stream",
     "text": [
      "+-----+-------------+-------------+--------+-------------+\n",
      "|Label|       TrackP|      TrackPt|MuonFlag|         SpdE|\n",
      "+-----+-------------+-------------+--------+-------------+\n",
      "|Other|74791.1562629|3141.93067698|     1.0|3.20000004768|\n",
      "|Ghost|2738.48998933|199.573653278|     0.0|3.20000004768|\n",
      "|Ghost|2161.40990765|94.8294175338|     0.0|          0.0|\n",
      "|Other|15277.7304903|808.631063989|     0.0|3.20000004768|\n",
      "|Other|7563.70019502|1422.56921358|     0.0|3.20000004768|\n",
      "|Other|62641.6210901|3195.36230097|     0.0|3.20000004768|\n",
      "|Other|18872.8105703|1428.89675193|     0.0|3.20000004768|\n",
      "|Ghost|1993.55004844|469.429473483|     0.0|          0.0|\n",
      "|Other|90635.2968712|4560.59667592|     0.0|3.20000004768|\n",
      "|Other|11633.6699412|286.894581101|     0.0|          0.0|\n",
      "|Other|3432.92993402|447.756746761|     0.0|          0.0|\n",
      "|Other|21985.5390787|1616.39540194|     0.0|3.20000004768|\n",
      "|Other|  5666.160153|334.631435959|     0.0|          0.0|\n",
      "|Other|72726.6015693|3350.76196972|     1.0|3.20000004768|\n",
      "|Other|31465.6992176|839.893370406|     0.0|3.20000004768|\n",
      "|Other|100204.546879|4152.17822691|     1.0|3.20000004768|\n",
      "|Other|5402.31982176|925.537839341|     0.0|3.20000004768|\n",
      "|Other|4081.04003133|99.0788725761|     0.0|3.20000004768|\n",
      "|Other|9824.12988681|309.734592625|     0.0|3.20000004768|\n",
      "|Other|3559.33004986|1055.70443951|     0.0|3.20000004768|\n",
      "+-----+-------------+-------------+--------+-------------+\n",
      "only showing top 20 rows\n",
      "\n"
     ]
    }
   ],
   "source": [
    "data.show()"
   ]
  },
  {
   "cell_type": "code",
   "execution_count": 9,
   "id": "163c8fbd",
   "metadata": {},
   "outputs": [],
   "source": [
    "from pyspark.ml.feature import VectorAssembler\n",
    "\n",
    "assembler = VectorAssembler(\n",
    "    inputCols=['TrackP', \"TrackPt\", \"MuonFlag\", 'SpdE'],\n",
    "    outputCol=\"features\")"
   ]
  },
  {
   "cell_type": "code",
   "execution_count": 10,
   "id": "fb047802",
   "metadata": {},
   "outputs": [
    {
     "name": "stdout",
     "output_type": "stream",
     "text": [
      "+-----+-------------+-------------+--------+-------------+--------------------+\n",
      "|Label|       TrackP|      TrackPt|MuonFlag|         SpdE|            features|\n",
      "+-----+-------------+-------------+--------+-------------+--------------------+\n",
      "|Other|74791.1562629|3141.93067698|     1.0|3.20000004768|[74791.1562629,31...|\n",
      "|Ghost|2738.48998933|199.573653278|     0.0|3.20000004768|[2738.48998933,19...|\n",
      "|Ghost|2161.40990765|94.8294175338|     0.0|          0.0|[2161.40990765,94...|\n",
      "|Other|15277.7304903|808.631063989|     0.0|3.20000004768|[15277.7304903,80...|\n",
      "|Other|7563.70019502|1422.56921358|     0.0|3.20000004768|[7563.70019502,14...|\n",
      "|Other|62641.6210901|3195.36230097|     0.0|3.20000004768|[62641.6210901,31...|\n",
      "|Other|18872.8105703|1428.89675193|     0.0|3.20000004768|[18872.8105703,14...|\n",
      "|Ghost|1993.55004844|469.429473483|     0.0|          0.0|[1993.55004844,46...|\n",
      "|Other|90635.2968712|4560.59667592|     0.0|3.20000004768|[90635.2968712,45...|\n",
      "|Other|11633.6699412|286.894581101|     0.0|          0.0|[11633.6699412,28...|\n",
      "|Other|3432.92993402|447.756746761|     0.0|          0.0|[3432.92993402,44...|\n",
      "|Other|21985.5390787|1616.39540194|     0.0|3.20000004768|[21985.5390787,16...|\n",
      "|Other|  5666.160153|334.631435959|     0.0|          0.0|[5666.160153,334....|\n",
      "|Other|72726.6015693|3350.76196972|     1.0|3.20000004768|[72726.6015693,33...|\n",
      "|Other|31465.6992176|839.893370406|     0.0|3.20000004768|[31465.6992176,83...|\n",
      "|Other|100204.546879|4152.17822691|     1.0|3.20000004768|[100204.546879,41...|\n",
      "|Other|5402.31982176|925.537839341|     0.0|3.20000004768|[5402.31982176,92...|\n",
      "|Other|4081.04003133|99.0788725761|     0.0|3.20000004768|[4081.04003133,99...|\n",
      "|Other|9824.12988681|309.734592625|     0.0|3.20000004768|[9824.12988681,30...|\n",
      "|Other|3559.33004986|1055.70443951|     0.0|3.20000004768|[3559.33004986,10...|\n",
      "+-----+-------------+-------------+--------+-------------+--------------------+\n",
      "only showing top 20 rows\n",
      "\n"
     ]
    }
   ],
   "source": [
    "data = assembler.transform(data)\n",
    "data.show()"
   ]
  },
  {
   "cell_type": "code",
   "execution_count": 11,
   "id": "51c842f0",
   "metadata": {},
   "outputs": [
    {
     "name": "stderr",
     "output_type": "stream",
     "text": [
      "                                                                                \r"
     ]
    }
   ],
   "source": [
    "featureIndexer = \\\n",
    "VectorIndexer(inputCol=\"features\", outputCol=\"indexedFeatures\", maxCategories=4).fit(data)"
   ]
  },
  {
   "cell_type": "markdown",
   "id": "b9caed99",
   "metadata": {},
   "source": [
    "# 4. Separamos los datos en entrenamiento y prueba"
   ]
  },
  {
   "cell_type": "code",
   "execution_count": 12,
   "id": "26e1ed2d",
   "metadata": {},
   "outputs": [],
   "source": [
    "(trainingData, testData) = data.randomSplit([0.7, 0.3])"
   ]
  },
  {
   "cell_type": "markdown",
   "id": "a1dc003a",
   "metadata": {},
   "source": [
    "# 5. Entrenamos el modelo"
   ]
  },
  {
   "cell_type": "code",
   "execution_count": 13,
   "id": "b2b4a2d0",
   "metadata": {},
   "outputs": [
    {
     "name": "stderr",
     "output_type": "stream",
     "text": [
      "                                                                                \r"
     ]
    },
    {
     "name": "stdout",
     "output_type": "stream",
     "text": [
      "CPU times: user 24.7 ms, sys: 7.23 ms, total: 31.9 ms\n",
      "Wall time: 13.8 s\n"
     ]
    }
   ],
   "source": [
    "%%time\n",
    "\n",
    "gbt = GBTClassifier(labelCol=\"indexedLabel\", featuresCol=\"indexedFeatures\", maxIter=10)\n",
    "pipeline = Pipeline(stages=[labelIndexer, featureIndexer, gbt])\n",
    "model = pipeline.fit(trainingData)"
   ]
  },
  {
   "cell_type": "markdown",
   "id": "845126f6",
   "metadata": {},
   "source": [
    "# 6. Utilizamos el modelo para hacer predicciones"
   ]
  },
  {
   "cell_type": "code",
   "execution_count": 14,
   "id": "4a8cbda5",
   "metadata": {},
   "outputs": [
    {
     "name": "stdout",
     "output_type": "stream",
     "text": [
      "+----------+------------+--------------------+\n",
      "|prediction|indexedLabel|            features|\n",
      "+----------+------------+--------------------+\n",
      "|       0.0|         1.0|[1150.7199885,162...|\n",
      "|       0.0|         1.0|[1216.72999479,36...|\n",
      "|       0.0|         1.0|[1272.82994686,22...|\n",
      "|       0.0|         1.0|[1293.06006353,55...|\n",
      "|       0.0|         1.0|[1307.17004305,46...|\n",
      "+----------+------------+--------------------+\n",
      "only showing top 5 rows\n",
      "\n"
     ]
    }
   ],
   "source": [
    "predictions = model.transform(testData)\n",
    "predictions.select(\"prediction\", \"indexedLabel\", \"features\").show(5)"
   ]
  },
  {
   "cell_type": "markdown",
   "id": "3d37f987",
   "metadata": {},
   "source": [
    "# 7. Evaluamos el modelo"
   ]
  },
  {
   "cell_type": "code",
   "execution_count": 15,
   "id": "ce592187",
   "metadata": {},
   "outputs": [
    {
     "name": "stderr",
     "output_type": "stream",
     "text": [
      "\r",
      "[Stage 114:===>                                                   (1 + 16) / 17]\r"
     ]
    },
    {
     "name": "stdout",
     "output_type": "stream",
     "text": [
      "Test Error = 0.15003\n"
     ]
    },
    {
     "name": "stderr",
     "output_type": "stream",
     "text": [
      "\r",
      "[Stage 114:======================>                                (7 + 10) / 17]\r",
      "\r",
      "                                                                                \r"
     ]
    }
   ],
   "source": [
    "evaluator = MulticlassClassificationEvaluator(\n",
    "labelCol=\"indexedLabel\", predictionCol=\"prediction\", metricName=\"accuracy\")\n",
    "accuracy = evaluator.evaluate(predictions)\n",
    "print(\"Test Error = %g\" % (1.0 - accuracy))"
   ]
  },
  {
   "cell_type": "markdown",
   "id": "14dc5283",
   "metadata": {},
   "source": [
    "### El error que se obtiene al utilizar el modelo y los datos es de 0.15003"
   ]
  },
  {
   "cell_type": "code",
   "execution_count": 16,
   "id": "6f4c8e16",
   "metadata": {},
   "outputs": [
    {
     "name": "stdout",
     "output_type": "stream",
     "text": [
      "GBTClassificationModel: uid = GBTClassifier_ab9012c9ca65, numTrees=10, numClasses=2, numFeatures=4\n"
     ]
    }
   ],
   "source": [
    "gbtModel = model.stages[2]\n",
    "print(gbtModel)  # summary only"
   ]
  },
  {
   "cell_type": "code",
   "execution_count": 17,
   "id": "c54a5994",
   "metadata": {},
   "outputs": [],
   "source": [
    "spark.stop()"
   ]
  }
 ],
 "metadata": {
  "kernelspec": {
   "display_name": "Python 3 (ipykernel)",
   "language": "python",
   "name": "python3"
  },
  "language_info": {
   "codemirror_mode": {
    "name": "ipython",
    "version": 3
   },
   "file_extension": ".py",
   "mimetype": "text/x-python",
   "name": "python",
   "nbconvert_exporter": "python",
   "pygments_lexer": "ipython3",
   "version": "3.8.5"
  }
 },
 "nbformat": 4,
 "nbformat_minor": 5
}
